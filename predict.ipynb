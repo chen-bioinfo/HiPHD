{
 "cells": [
  {
   "cell_type": "code",
   "execution_count": 3,
   "metadata": {},
   "outputs": [],
   "source": [
    "import os\n",
    "import sys\n",
    "import math\n",
    "import pprint\n",
    "import random\n",
    "import yaml\n",
    "import shutil\n",
    "import numpy as np\n",
    "import json\n",
    "import torch\n",
    "from torch.optim import lr_scheduler\n",
    "\n",
    "from torchdrug import core, models, tasks, datasets, utils, data, transforms\n",
    "from torchdrug.utils import comm\n",
    "from util_predict import load_pdb\n",
    "import util\n",
    "from hiphd import tasks\n",
    "from gearnet import layer, model\n",
    "\n"
   ]
  },
  {
   "cell_type": "markdown",
   "metadata": {},
   "source": [
    "## Init model and label map"
   ]
  },
  {
   "cell_type": "code",
   "execution_count": 4,
   "metadata": {},
   "outputs": [
    {
     "data": {
      "text/plain": [
       "<All keys matched successfully>"
      ]
     },
     "execution_count": 4,
     "metadata": {},
     "output_type": "execute_result"
    }
   ],
   "source": [
    "CFG_FILE = 'model/hiphd_scope.yaml'\n",
    "PTH_FILE = 'model/hiphd_scope.pth'\n",
    "DEVICE = 'cpu'\n",
    "# DEVICE = 'cuda:0'\n",
    "\n",
    "# init model\n",
    "cfg = util.load_config(CFG_FILE, {})\n",
    "task = core.Configurable.load_config_dict(cfg.task)\n",
    "state = torch.load(PTH_FILE, map_location=DEVICE)\n",
    "task.load_state_dict(state)\n",
    "\n",
    "# init map\n",
    "with open('map/lab2idx_scop.json', 'r') as fp:\n",
    "    classmap = json.load(fp)['super']\n",
    "\n",
    "classmap = {v:k for k,v in classmap.items()}"
   ]
  },
  {
   "cell_type": "markdown",
   "metadata": {},
   "source": [
    "## Load PDB file to predict"
   ]
  },
  {
   "cell_type": "markdown",
   "metadata": {},
   "source": [
    "Todo: Here you can load A LIST OF FILES to improve efficiency"
   ]
  },
  {
   "cell_type": "code",
   "execution_count": 6,
   "metadata": {},
   "outputs": [],
   "source": [
    "FILE_PATH = 'test_data/d1a1yi_.pdb'\n",
    "initdata = load_pdb(FILE_PATH)\n",
    "inputdata = data.Protein.pack([initdata['graph']])\n",
    "inputdata1 = {'graph' : inputdata}"
   ]
  },
  {
   "cell_type": "markdown",
   "metadata": {},
   "source": [
    "## Predict"
   ]
  },
  {
   "cell_type": "code",
   "execution_count": 9,
   "metadata": {},
   "outputs": [],
   "source": [
    "task.eval()\n",
    "res = task.predict(inputdata1)[-1].argmax()\n",
    "res"
   ]
  },
  {
   "cell_type": "code",
   "execution_count": 11,
   "metadata": {},
   "outputs": [
    {
     "data": {
      "text/plain": [
       "'d.40.1'"
      ]
     },
     "execution_count": 11,
     "metadata": {},
     "output_type": "execute_result"
    }
   ],
   "source": [
    "classmap[res.item()]"
   ]
  }
 ],
 "metadata": {
  "kernelspec": {
   "display_name": "Python 3",
   "language": "python",
   "name": "python3"
  },
  "language_info": {
   "codemirror_mode": {
    "name": "ipython",
    "version": 3
   },
   "file_extension": ".py",
   "mimetype": "text/x-python",
   "name": "python",
   "nbconvert_exporter": "python",
   "pygments_lexer": "ipython3",
   "version": "3.8.18"
  }
 },
 "nbformat": 4,
 "nbformat_minor": 2
}
